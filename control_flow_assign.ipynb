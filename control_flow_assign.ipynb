{
 "cells": [
  {
   "cell_type": "markdown",
   "metadata": {},
   "source": [
    "             All the Questions are Solved Below with Question No. \n",
    "             And Explanation is Beside of Every Coding Line\n"
   ]
  },
  {
   "cell_type": "code",
   "execution_count": 1,
   "metadata": {},
   "outputs": [
    {
     "name": "stdout",
     "output_type": "stream",
     "text": [
      "The number -10 is Negative.\n"
     ]
    }
   ],
   "source": [
    "# Q1\n",
    "\n",
    "def check_positive_negative(number):\n",
    "    if number > 0:  # Check if the number is greater than 0\n",
    "        return \"Positive\"\n",
    "    elif number < 0:  # Check if the number is less than 0\n",
    "        return \"Negative\"\n",
    "    else:  # If the number is neither greater than nor less than 0, it must be 0\n",
    "        return \"Zero\"\n",
    "\n",
    "# Example usage\n",
    "number = -10\n",
    "print(f\"The number {number} is {check_positive_negative(number)}.\")\n"
   ]
  },
  {
   "cell_type": "code",
   "execution_count": null,
   "metadata": {},
   "outputs": [],
   "source": [
    "# Q2\n",
    "\n",
    "def check_voting_eligibility(age):\n",
    "    if age >= 18:  # Check if the age is 18 or more\n",
    "        return \"Eligible to vote\"\n",
    "    else:  # If the age is less than 18\n",
    "        return \"Not eligible to vote\"\n",
    "\n",
    "# Example usage\n",
    "age = 20\n",
    "print(f\"A person aged {age} is {check_voting_eligibility(age)}.\")\n"
   ]
  },
  {
   "cell_type": "code",
   "execution_count": null,
   "metadata": {},
   "outputs": [],
   "source": [
    "# Q3\n",
    "\n",
    "def find_maximum(num1, num2):\n",
    "    if num1 > num2:  # Check if the first number is greater than the second number\n",
    "        return num1\n",
    "    else:  # If the first number is not greater than the second number\n",
    "        return num2\n",
    "\n",
    "# Example usage\n",
    "num1 = 10\n",
    "num2 = 20\n",
    "print(f\"The maximum of {num1} and {num2} is {find_maximum(num1, num2)}.\")\n"
   ]
  },
  {
   "cell_type": "code",
   "execution_count": null,
   "metadata": {},
   "outputs": [],
   "source": [
    "# Q4\n",
    "\n",
    "def is_leap_year(year):\n",
    "    # Check if the year is divisible by 4 and not by 100, or divisible by 400\n",
    "    if (year % 4 == 0 and year % 100 != 0) or (year % 400 == 0):\n",
    "        return \"Leap year\"\n",
    "    else:  # If the year does not meet the leap year criteria\n",
    "        return \"Not a leap year\"\n",
    "\n",
    "# Example usage\n",
    "year = 2024\n",
    "print(f\"The year {year} is {is_leap_year(year)}.\")\n"
   ]
  },
  {
   "cell_type": "code",
   "execution_count": null,
   "metadata": {},
   "outputs": [],
   "source": [
    "# Q5\n",
    "\n",
    "\n",
    "def check_vowel_consonant(char):\n",
    "    vowels = \"aeiouAEIOU\"  # String containing all vowels\n",
    "    if char in vowels:  # Check if the character is in the string of vowels\n",
    "        return \"Vowel\"\n",
    "    else:  # If the character is not in the string of vowels\n",
    "        return \"Consonant\"\n",
    "\n",
    "# Example usage\n",
    "char = 'a'\n",
    "print(f\"The character '{char}' is a {check_vowel_consonant(char)}.\")\n"
   ]
  },
  {
   "cell_type": "code",
   "execution_count": null,
   "metadata": {},
   "outputs": [],
   "source": [
    "# Q6\n",
    "\n",
    "def check_even_odd(number):\n",
    "    if number % 2 == 0:  # Check if the number is divisible by 2\n",
    "        return \"Even\"\n",
    "    else:  # If the number is not divisible by 2\n",
    "        return \"Odd\"\n",
    "\n",
    "# Example usage\n",
    "number = 7\n",
    "print(f\"The number {number} is {check_even_odd(number)}.\")\n"
   ]
  },
  {
   "cell_type": "code",
   "execution_count": null,
   "metadata": {},
   "outputs": [],
   "source": [
    "# Q7\n",
    "\n",
    "def calculate_absolute_value(number):\n",
    "    if number < 0:  # Check if the number is negative\n",
    "        return -number  # Return the negative of the number\n",
    "    else:  # If the number is not negative\n",
    "        return number  # Return the number as is\n",
    "\n",
    "# Example usage\n",
    "number = -15\n",
    "print(f\"The absolute value of {number} is {calculate_absolute_value(number)}.\")\n"
   ]
  },
  {
   "cell_type": "code",
   "execution_count": null,
   "metadata": {},
   "outputs": [],
   "source": [
    "# Q8\n",
    "\n",
    "def find_largest(num1, num2, num3):\n",
    "    if num1 >= num2 and num1 >= num3:  # Check if num1 is greater than or equal to both num2 and num3\n",
    "        return num1\n",
    "    elif num2 >= num1 and num2 >= num3:  # Check if num2 is greater than or equal to both num1 and num3\n",
    "        return num2\n",
    "    else:  # If neither num1 nor num2 is the largest, then num3 must be the largest\n",
    "        return num3\n",
    "\n",
    "# Example usage\n",
    "num1 = 10\n",
    "num2 = 20\n",
    "num3 = 15\n",
    "print(f\"The largest of {num1}, {num2}, and {num3} is {find_largest(num1, num2, num3)}.\")\n"
   ]
  },
  {
   "cell_type": "code",
   "execution_count": null,
   "metadata": {},
   "outputs": [],
   "source": [
    "# Q9\n",
    "\n",
    "def is_palindrome(string):\n",
    "    if string == string[::-1]:  # Check if the string is equal to its reverse\n",
    "        return \"Palindrome\"\n",
    "    else:  # If the string is not equal to its reverse\n",
    "        return \"Not a palindrome\"\n",
    "\n",
    "# Example usage\n",
    "string = \"radar\"\n",
    "print(f\"The string '{string}' is {is_palindrome(string)}.\")\n"
   ]
  },
  {
   "cell_type": "code",
   "execution_count": null,
   "metadata": {},
   "outputs": [],
   "source": [
    "# Q10\n",
    "\n",
    "\n",
    "def calculate_grade(score):\n",
    "    if score >= 90:  # Check if the score is 90 or above\n",
    "        return \"A\"\n",
    "    elif score >= 80:  # Check if the score is 80 or above\n",
    "        return \"B\"\n",
    "    elif score >= 70:  # Check if the score is 70 or above\n",
    "        return \"C\"\n",
    "    elif score >= 60:  # Check if the score is 60 or above\n",
    "        return \"D\"\n",
    "    else:  # If the score is below 60\n",
    "        return \"F\"\n",
    "\n",
    "# Example usage\n",
    "score = 85\n",
    "print(f\"A score of {score} gets a grade of {calculate_grade(score)}.\")\n"
   ]
  },
  {
   "cell_type": "code",
   "execution_count": null,
   "metadata": {},
   "outputs": [],
   "source": [
    "# Q11\n",
    "def find_largest_nested(num1, num2, num3):\n",
    "    if num1 >= num2:  # Check if num1 is greater than or equal to num2\n",
    "        if num1 >= num3:  # Check if num1 is also greater than or equal to num3\n",
    "            return num1\n",
    "        else:  # If num1 is not greater than or equal to num3, num3 is the largest\n",
    "            return num3\n",
    "    else:  # If num1 is not greater than or equal to num2\n",
    "        if num2 >= num3:  # Check if num2 is greater than or equal to num3\n",
    "            return num2\n",
    "        else:  # If num2 is not greater than or equal to num3, num3 is the largest\n",
    "            return num3\n",
    "\n",
    "# Example usage\n",
    "num1 = 10\n",
    "num2 = 20\n",
    "num3 = 15\n",
    "print(f\"The largest of {num1}, {num2}, and {num3} is {find_largest_nested(num1, num2, num3)}.\")\n"
   ]
  },
  {
   "cell_type": "code",
   "execution_count": null,
   "metadata": {},
   "outputs": [],
   "source": [
    "# Q12\n",
    "def classify_triangle(side1, side2, side3):\n",
    "    if side1 == side2 == side3:  # Check if all three sides are equal\n",
    "        return \"Equilateral\"\n",
    "    elif side1 == side2 or side2 == side3 or side1 == side3:  # Check if any two sides are equal\n",
    "        return \"Isosceles\"\n",
    "    else:  # If no sides are equal\n",
    "        return \"Scalene\"\n",
    "\n",
    "# Example usage\n",
    "side1 = 5\n",
    "side2 = 5\n",
    "side3 = 5\n",
    "print(f\"A triangle with sides {side1}, {side2}, and {side3} is {classify_triangle(side1, side2, side3)}.\")\n"
   ]
  },
  {
   "cell_type": "code",
   "execution_count": null,
   "metadata": {},
   "outputs": [],
   "source": [
    "# Q13\n",
    "def check_leap_century_year(year):\n",
    "    if year % 100 == 0:  # Check if the year is a century year (divisible by 100)\n",
    "        if year % 400 == 0:  # Check if the century year is also a leap year (divisible by 400)\n",
    "            return \"Leap century year\"\n",
    "        else:  # If the century year is not a leap year\n",
    "            return \"Non-leap century year\"\n",
    "    elif year % 4 == 0:  # Check if the non-century year is a leap year (divisible by 4)\n",
    "        return \"Leap year\"\n",
    "    else:  # If the non-century year is not a leap year\n",
    "        return \"Non-leap year\"\n",
    "\n",
    "# Example usage\n",
    "year = 2000\n",
    "print(f\"The year {year} is a {check_leap_century_year(year)}.\")\n"
   ]
  },
  {
   "cell_type": "code",
   "execution_count": null,
   "metadata": {},
   "outputs": [],
   "source": [
    "# Q14\n",
    "def check_number_sign(number):\n",
    "    if number > 0:  # Check if the number is greater than 0\n",
    "        return \"Positive\"\n",
    "    elif number < 0:  # Check if the number is less than 0\n",
    "        return \"Negative\"\n",
    "    else:  # If the number is neither greater than nor less than 0, it must be 0\n",
    "        return \"Zero\"\n",
    "\n",
    "# Example usage\n",
    "number = 0\n",
    "print(f\"The number {number} is {check_number_sign(number)}\")\n"
   ]
  },
  {
   "cell_type": "code",
   "execution_count": null,
   "metadata": {},
   "outputs": [],
   "source": [
    "# Q15\n",
    "def is_teenager(age):\n",
    "    if 13 <= age <= 19:  # Check if the age is between 13 and 19 inclusive\n",
    "        return \"Teenager\"\n",
    "    else:  # If the age is not between 13 and 19\n",
    "        return \"Not a teenager\"\n",
    "\n",
    "# Example usage\n",
    "age = 15\n",
    "print(f\"A person aged {age} is {is_teenager(age)}.\")\n"
   ]
  },
  {
   "cell_type": "code",
   "execution_count": null,
   "metadata": {},
   "outputs": [],
   "source": [
    "# Q16\n",
    "def classify_angle(angle):\n",
    "    if angle < 90:  # Check if the angle is less than 90 degrees\n",
    "        return \"Acute angle\"\n",
    "    elif angle == 90:  # Check if the angle is exactly 90 degrees\n",
    "        return \"Right angle\"\n",
    "    else:  # If the angle is greater than 90 degrees\n",
    "        return \"Obtuse angle\"\n",
    "\n",
    "# Example usage\n",
    "angle = 120\n",
    "print(f\"An angle of {angle} degrees is an {classify_angle(angle)}.\")\n"
   ]
  },
  {
   "cell_type": "code",
   "execution_count": null,
   "metadata": {},
   "outputs": [],
   "source": [
    "# Q17\n",
    "import math\n",
    "\n",
    "def calculate_roots(a, b, c):\n",
    "    discriminant = b**2 - 4*a*c  # Calculate the discriminant\n",
    "    if discriminant > 0:  # Two real and distinct roots\n",
    "        root1 = (-b + math.sqrt(discriminant)) / (2*a)\n",
    "        root2 = (-b - math.sqrt(discriminant)) / (2*a)\n",
    "        return root1, root2\n",
    "    elif discriminant == 0:  # One real and repeated root\n",
    "        root = -b / (2*a)\n",
    "        return root, root\n",
    "    else:  # Complex roots\n",
    "        real_part = -b / (2*a)\n",
    "        imaginary_part = math.sqrt(-discriminant) / (2*a)\n",
    "        return (real_part, imaginary_part), (real_part, -imaginary_part)\n",
    "\n",
    "# Example usage\n",
    "a, b, c = 1, -3, 2\n",
    "roots = calculate_roots(a, b, c)\n",
    "print(f\"The roots of the quadratic equation {a}x^2 + {b}x + {c} = 0 are {roots}.\")\n"
   ]
  },
  {
   "cell_type": "code",
   "execution_count": null,
   "metadata": {},
   "outputs": [],
   "source": [
    "# Q18\n",
    "def get_day_of_week(number):\n",
    "    days = [\"Monday\", \"Tuesday\", \"Wednesday\", \"Thursday\", \"Friday\", \"Saturday\", \"Sunday\"]\n",
    "    if 1 <= number <= 7:  # Check if the number is between 1 and 7\n",
    "        return days[number - 1]\n",
    "    else:  # If the number is not between 1 and 7\n",
    "        return \"Invalid day number\"\n",
    "\n",
    "# Example usage\n",
    "number = 3\n",
    "print(f\"The day of the week for number {number} is {get_day_of_week(number)}.\")\n"
   ]
  },
  {
   "cell_type": "code",
   "execution_count": null,
   "metadata": {},
   "outputs": [],
   "source": [
    "# Q19\n",
    "def is_leap_and_divisible_by_400(year):\n",
    "    if (year % 4 == 0 and year % 100 != 0) or (year % 400 == 0):  # Check if the year is a leap year\n",
    "        if year % 400 == 0:  # Check if the leap year is also divisible by 400\n",
    "            return \"Leap year and divisible by 400\"\n",
    "        else:  # If the leap year is not divisible by 400\n",
    "            return \"Leap year but not divisible by 400\"\n",
    "    else:  # If the year is not a leap year\n",
    "        return \"Not a leap year\"\n",
    "\n",
    "# Example usage\n",
    "year = 1600\n",
    "print(f\"The year {year} is {is_leap_and_divisible_by_400(year)}.\")\n"
   ]
  },
  {
   "cell_type": "code",
   "execution_count": null,
   "metadata": {},
   "outputs": [],
   "source": [
    "# Q20\n",
    "def is_prime(number):\n",
    "    if number <= 1:  # Check if the number is 1 or less\n",
    "        return \"Not a prime number\"\n",
    "    else:\n",
    "        for i in range(2, int(number ** 0.5) + 1):  # Iterate from 2 to the square root of the number\n",
    "            if number % i == 0:  # Check if the number is divisible by any number in the range\n",
    "                return \"Not a prime number\"\n",
    "        return \"Prime number\"\n",
    "\n",
    "# Example usage\n",
    "number = 29\n",
    "print(f\"The number {number} is {is_prime(number)}.\")\n"
   ]
  },
  {
   "cell_type": "code",
   "execution_count": null,
   "metadata": {},
   "outputs": [],
   "source": []
  },
  {
   "cell_type": "code",
   "execution_count": null,
   "metadata": {},
   "outputs": [],
   "source": []
  }
 ],
 "metadata": {
  "kernelspec": {
   "display_name": "Python 3",
   "language": "python",
   "name": "python3"
  },
  "language_info": {
   "codemirror_mode": {
    "name": "ipython",
    "version": 3
   },
   "file_extension": ".py",
   "mimetype": "text/x-python",
   "name": "python",
   "nbconvert_exporter": "python",
   "pygments_lexer": "ipython3",
   "version": "3.11.5"
  }
 },
 "nbformat": 4,
 "nbformat_minor": 2
}
